{
 "cells": [
  {
   "cell_type": "code",
   "execution_count": 1,
   "metadata": {},
   "outputs": [
    {
     "name": "stdout",
     "output_type": "stream",
     "text": [
      " Camera matrix:\n",
      "[[3.03899263e+03 0.00000000e+00 1.49804134e+03]\n",
      " [0.00000000e+00 3.03552688e+03 1.99105841e+03]\n",
      " [0.00000000e+00 0.00000000e+00 1.00000000e+00]]\n",
      "\n",
      " Distortion coefficient:\n",
      "[[-1.65357248e-02  1.95393621e-01  1.73253607e-04  1.32382777e-03\n",
      "  -1.85870112e-01]]\n",
      "\n",
      " Rotation Vectors:\n",
      "[array([[ 0.49624183],\n",
      "       [-0.51084449],\n",
      "       [-1.47812716]]), array([[-0.51126798],\n",
      "       [ 0.53029699],\n",
      "       [-1.48448206]]), array([[ 0.6058342 ],\n",
      "       [-0.51487298],\n",
      "       [-1.51745686]]), array([[ 0.03684077],\n",
      "       [ 0.03863652],\n",
      "       [-1.5712386 ]]), array([[-0.39250679],\n",
      "       [-0.45482728],\n",
      "       [-1.46301911]]), array([[ 0.39264161],\n",
      "       [ 0.47244686],\n",
      "       [-1.46235663]]), array([[-0.74736067],\n",
      "       [ 0.4868226 ],\n",
      "       [-1.52194023]]), array([[-0.56884139],\n",
      "       [ 0.71185887],\n",
      "       [-1.14064151]]), array([[ 0.43432956],\n",
      "       [-0.91384932],\n",
      "       [-1.24573341]]), array([[ 0.76920285],\n",
      "       [-0.3752281 ],\n",
      "       [-1.52821089]]), array([[-0.53038091],\n",
      "       [ 0.3704948 ],\n",
      "       [-1.49222457]]), array([[ 0.48196071],\n",
      "       [-0.51052489],\n",
      "       [-1.47528569]]), array([[ 0.70524269],\n",
      "       [-0.42034983],\n",
      "       [-1.64007036]]), array([[-0.48434215],\n",
      "       [ 0.78803747],\n",
      "       [-1.34309855]]), array([[ 0.1958537 ],\n",
      "       [ 0.24323207],\n",
      "       [-1.54761148]]), array([[-0.40280024],\n",
      "       [-0.3547019 ],\n",
      "       [-1.52636574]])]\n",
      "\n",
      " Translation Vectors:\n",
      "[array([[-1.99306073],\n",
      "       [ 2.06951421],\n",
      "       [ 8.04395874]]), array([[-3.68505241],\n",
      "       [ 1.79981359],\n",
      "       [16.11909854]]), array([[-1.02825112],\n",
      "       [ 1.86701593],\n",
      "       [12.30398897]]), array([[-3.36528377],\n",
      "       [ 1.71643074],\n",
      "       [15.27334329]]), array([[-4.22156377],\n",
      "       [-0.6597835 ],\n",
      "       [12.88462501]]), array([[-4.27841168],\n",
      "       [ 3.28738554],\n",
      "       [16.99612189]]), array([[-3.76420881],\n",
      "       [ 1.53546182],\n",
      "       [17.03422895]]), array([[-4.13857078],\n",
      "       [ 3.74957159],\n",
      "       [18.53739921]]), array([[-0.18427043],\n",
      "       [ 0.46022097],\n",
      "       [12.78109037]]), array([[-1.71250584],\n",
      "       [ 5.90442972],\n",
      "       [14.16022147]]), array([[-4.46738561],\n",
      "       [ 2.21073361],\n",
      "       [14.27301708]]), array([[-1.92745646],\n",
      "       [ 2.16439034],\n",
      "       [ 7.9708715 ]]), array([[-0.99427451],\n",
      "       [ 3.82153662],\n",
      "       [ 9.53436867]]), array([[-3.68568106],\n",
      "       [ 1.83112393],\n",
      "       [15.32570632]]), array([[-4.2809206 ],\n",
      "       [ 3.97049933],\n",
      "       [13.3068992 ]]), array([[-4.06610846],\n",
      "       [ 2.62011648],\n",
      "       [11.8282884 ]])]\n"
     ]
    }
   ],
   "source": [
    "# Import required modules \n",
    "import cv2 \n",
    "import numpy as np \n",
    "import os \n",
    "import glob \n",
    "\n",
    "\n",
    "# Define the dimensions of checkerboard \n",
    "CHECKERBOARD = (6,9) \n",
    "\n",
    "\n",
    "# stop the iteration when specified \n",
    "# accuracy, epsilon, is reached or \n",
    "# specified number of iterations are completed. \n",
    "criteria = (cv2.TERM_CRITERIA_EPS + cv2.TERM_CRITERIA_MAX_ITER, 30, 0.001) \n",
    "\n",
    "\n",
    "# Vector for 3D points \n",
    "threedpoints = [] \n",
    "\n",
    "# Vector for 2D points \n",
    "twodpoints = [] \n",
    "\n",
    "\n",
    "# 3D points real world coordinates \n",
    "objectp3d = np.zeros((1, CHECKERBOARD[0] * CHECKERBOARD[1], 3), np.float32) \n",
    "objectp3d[0, :, :2] = np.mgrid[0:CHECKERBOARD[0], 0:CHECKERBOARD[1]].T.reshape(-1, 2) \n",
    "prev_img_shape = None\n",
    "\n",
    "\n",
    "# Extracting path of individual image stored \n",
    "# in a given directory. Since no path is \n",
    "# specified, it will take current directory \n",
    "# jpg files alone \n",
    "images = glob.glob(r'C:\\Users\\harip25\\3D Objects\\final1\\*.jpg') \n",
    "\n",
    "for filename in images: \n",
    "\timage = cv2.imread(filename) \n",
    "\tgrayColor = cv2.cvtColor(image, cv2.COLOR_BGR2GRAY) \n",
    "\n",
    "\t# Find the chess board corners \n",
    "\t# If desired number of corners are \n",
    "\t# found in the image then ret = true \n",
    "\tret, corners = cv2.findChessboardCorners( \n",
    "\t\t\t\t\tgrayColor, CHECKERBOARD, \n",
    "\t\t\t\t\tcv2.CALIB_CB_ADAPTIVE_THRESH \n",
    "\t\t\t\t\t+ cv2.CALIB_CB_FAST_CHECK +\n",
    "\t\t\t\t\tcv2.CALIB_CB_NORMALIZE_IMAGE) \n",
    "\n",
    "\t# If desired number of corners can be detected then, \n",
    "\t# refine the pixel coordinates and display \n",
    "\t# them on the images of checker board \n",
    "\tif ret == True: \n",
    "\t\tthreedpoints.append(objectp3d) \n",
    "\n",
    "\t\t# Refining pixel coordinates \n",
    "\t\t# for given 2d points. \n",
    "\t\tcorners2 = cv2.cornerSubPix( grayColor, corners, (11, 11), (-1, -1), criteria) \n",
    "\n",
    "\t\ttwodpoints.append(corners2) \n",
    "\n",
    "\t\t# Draw and display the corners \n",
    "\t\timage = cv2.drawChessboardCorners(image, CHECKERBOARD, corners2, ret) \n",
    "\n",
    "\tcv2.imshow('img', image) \n",
    "\tcv2.waitKey(0) \n",
    "\n",
    "cv2.destroyAllWindows() \n",
    "h, w = image.shape[:2] \n",
    "\n",
    "\n",
    "# Perform camera calibration by \n",
    "# passing the value of above found out 3D points (threedpoints) \n",
    "# and its corresponding pixel coordinates of the \n",
    "# detected corners (twodpoints) \n",
    "ret, matrix, distortion, r_vecs, t_vecs = cv2.calibrateCamera( \n",
    "\tthreedpoints, twodpoints, grayColor.shape[::-1], None, None) \n",
    "\n",
    "\n",
    "\n",
    "# Displayig required output \n",
    "print(\" Camera matrix:\") \n",
    "print(matrix) \n",
    "\n",
    "print(\"\\n Distortion coefficient:\") \n",
    "print(distortion) \n",
    "\n",
    "print(\"\\n Rotation Vectors:\") \n",
    "print(r_vecs) \n",
    "\n",
    "print(\"\\n Translation Vectors:\") \n",
    "print(t_vecs) \n"
   ]
  },
  {
   "cell_type": "markdown",
   "metadata": {},
   "source": [
    "#new"
   ]
  },
  {
   "cell_type": "code",
   "execution_count": 6,
   "metadata": {},
   "outputs": [
    {
     "ename": "ModuleNotFoundError",
     "evalue": "No module named 'lensfunpy'",
     "output_type": "error",
     "traceback": [
      "\u001b[1;31m---------------------------------------------------------------------------\u001b[0m",
      "\u001b[1;31mModuleNotFoundError\u001b[0m                       Traceback (most recent call last)",
      "\u001b[1;32m<ipython-input-6-f8b8f840584b>\u001b[0m in \u001b[0;36m<module>\u001b[1;34m\u001b[0m\n\u001b[1;32m----> 1\u001b[1;33m \u001b[1;32mimport\u001b[0m \u001b[0mlensfunpy\u001b[0m\u001b[1;33m\u001b[0m\u001b[1;33m\u001b[0m\u001b[0m\n\u001b[0m",
      "\u001b[1;31mModuleNotFoundError\u001b[0m: No module named 'lensfunpy'"
     ]
    }
   ],
   "source": [
    "import lensfunpy"
   ]
  },
  {
   "cell_type": "code",
   "execution_count": 2,
   "metadata": {},
   "outputs": [
    {
     "data": {
      "text/plain": [
       "True"
      ]
     },
     "execution_count": 2,
     "metadata": {},
     "output_type": "execute_result"
    }
   ],
   "source": [
    "img = cv2.imread(r'F:\\New folder\\Due Date (2010)\\New folder (5)\\Downloads\\IMG_20210430_173243.jpg')\n",
    "h,  w = img.shape[:2]\n",
    "newcameramtx, roi=cv2.getOptimalNewCameraMatrix(matrix,distortion,(w,h),1,(w,h))\n",
    "\n",
    "mapx,mapy = cv2.initUndistortRectifyMap(matrix,distortion,None,newcameramtx,(w,h),5)\n",
    "dst = cv2.remap(img,mapx,mapy,cv2.INTER_LINEAR)\n",
    "\n",
    "# crop the image\n",
    "x,y,w,h = roi\n",
    "dst = dst[y:y+h, x:x+w]\n",
    "cv2.imwrite(r'C:\\Users\\harip25\\Desktop\\try\\calibresult.jpg',dst)"
   ]
  },
  {
   "cell_type": "code",
   "execution_count": null,
   "metadata": {},
   "outputs": [],
   "source": [
    "ex=np.column_stack((r_vecs[3],t_vecs[3]))\n",
    "res=np.dot(matrix,ex)\n",
    "print(res)"
   ]
  },
  {
   "cell_type": "code",
   "execution_count": null,
   "metadata": {},
   "outputs": [],
   "source": [
    "newcameramtx, roi = cv2.getOptimalNewCameraMatrix(matrix, distortion, (w,h), 1, (w,h))\n",
    "\n",
    "# undistort\n",
    "\n",
    "img = cv2.imread(r'C:\\Users\\harip25\\Desktop\\try\\hmm.jpg')\n",
    "dst = cv2.undistort(img, matrix, distortion, None, newcameramtx)\n",
    "\n",
    "path = r'C:\\Users\\harip25\\Desktop'\n",
    "cv2.imwrite(os.path.join(path,'fimg1.jpg'),dst)\n",
    "#cv2.imwrite('calibresult.png', dst)\n"
   ]
  },
  {
   "cell_type": "code",
   "execution_count": null,
   "metadata": {},
   "outputs": [],
   "source": [
    "rotation_mat = np.zeros(shape=(3, 3))\n",
    "R = cv2.Rodrigues(r_vecs[3], rotation_mat)[0]\n",
    "m = np.column_stack((np.matmul(matrix,R), t_vecs[3]))\n",
    "print(m)"
   ]
  },
  {
   "cell_type": "code",
   "execution_count": null,
   "metadata": {},
   "outputs": [],
   "source": [
    "m=[[-7.43750617e+01 , 3.03725020e+03, 0,-3.36528377e+00],\n",
    " [-3.12764789e+03 ,-4.57096726e+00,  0,1.71643074e+00],\n",
    " [-4.80271628e-02 , -1.16120922e-03,  0, 1.52733433e+01]]"
   ]
  },
  {
   "cell_type": "code",
   "execution_count": null,
   "metadata": {},
   "outputs": [],
   "source": [
    "v0=3726\n",
    "v1=3510\n",
    "v2=3215\n",
    "v3=2779\n",
    "u0=2523\n",
    "u1=2523\n",
    "u2=2523\n",
    "u3=2523\n",
    "hi=30"
   ]
  },
  {
   "cell_type": "code",
   "execution_count": null,
   "metadata": {},
   "outputs": [],
   "source": [
    "A=  [[u0*m[2][0]-m[0][0],u0*m[2][1]-m[0][1],u0*m[2][2]-m[0][2]],\n",
    "        [v0*m[2][0]-m[1][0],v0*m[2][1]-m[1][1],v0*m[2][2]-m[1][2]],\n",
    "        [u1*m[2][0]-m[0][0],u1*m[2][1]-m[0][1],u1*m[2][2]-m[0][2]],\n",
    "        [v1*m[2][0]-m[1][0],v1*m[2][1]-m[1][1],v1*m[2][2]-m[1][2]],\n",
    "        [u2*m[2][0]-m[0][0],u2*m[2][1]-m[0][1],u2*m[2][2]-m[0][2]],\n",
    "        [v2*m[2][0]-m[1][0],v2*m[2][1]-m[1][1],v2*m[2][2]-m[1][2]]]"
   ]
  },
  {
   "cell_type": "code",
   "execution_count": null,
   "metadata": {},
   "outputs": [],
   "source": [
    "print(A)"
   ]
  },
  {
   "cell_type": "code",
   "execution_count": null,
   "metadata": {},
   "outputs": [],
   "source": [
    "B= [[m[0][3]-u0*m[2][3]],\n",
    "    [m[1][3]-v0*m[2][3]],\n",
    "    [m[0][3]-u1*m[2][3]-(u1*m[2][2]-m[0][2])*hi],\n",
    "    [m[1][3]-v1*m[2][3]-(v1*m[2][2]-m[1][2])*hi],\n",
    "    [m[0][3]-u2*m[2][3]-2.618*(u2*m[2][2]-m[0][2])*hi],\n",
    "    [m[1][3]-v2*m[2][3]-2.618*(v2*m[2][2]-m[1][2])*hi]]"
   ]
  },
  {
   "cell_type": "code",
   "execution_count": null,
   "metadata": {},
   "outputs": [],
   "source": [
    "print(B)"
   ]
  },
  {
   "cell_type": "code",
   "execution_count": null,
   "metadata": {},
   "outputs": [],
   "source": [
    "a=np.transpose(A)"
   ]
  },
  {
   "cell_type": "code",
   "execution_count": null,
   "metadata": {},
   "outputs": [],
   "source": [
    "b=np.matmul(a,A)\n",
    "print(b)"
   ]
  },
  {
   "cell_type": "code",
   "execution_count": null,
   "metadata": {},
   "outputs": [],
   "source": [
    "c=np.linalg.inv(b)\n",
    "d=np.matmul(c,a)\n",
    "e=np.matmul(d,B)"
   ]
  },
  {
   "cell_type": "code",
   "execution_count": null,
   "metadata": {},
   "outputs": [],
   "source": [
    "print(e)"
   ]
  },
  {
   "cell_type": "code",
   "execution_count": null,
   "metadata": {},
   "outputs": [],
   "source": [
    "H=(m[1][3]-v3*m[2][3]-(v3*m[2][0]-m[1][0])*e[0]-(v3*m[2][1]-m[1][1])*e[1])/(v3*m[2][2]-m[1][2])"
   ]
  },
  {
   "cell_type": "code",
   "execution_count": null,
   "metadata": {},
   "outputs": [],
   "source": [
    "print(H)"
   ]
  },
  {
   "cell_type": "code",
   "execution_count": null,
   "metadata": {},
   "outputs": [],
   "source": [
    "print((m[1][3]-v3*m[2][3]-(v3*m[2][0]-m[1][0])*e[0]-(v3*m[2][1]-m[1][1])*e[1]),(v3*m[2][2]-m[1][2]))"
   ]
  },
  {
   "cell_type": "code",
   "execution_count": null,
   "metadata": {},
   "outputs": [],
   "source": [
    "z=[[2523],\n",
    "   [3726],\n",
    "   [1]]\n",
    "m1=[[-7.43750617e+01 , 3.03725020e+03,-3.36528377e+00],\n",
    " [-3.12764789e+03 ,-4.57096726e+00, 1.71643074e+00],\n",
    " [-4.80271628e-02 , -1.16120922e-03, 1.52733433e+01]]\n",
    "c1=np.linalg.inv(m1)\n",
    "e1=np.matmul(c1,z)\n",
    "print (c1)\n",
    "print(np.matmul(c1,z))"
   ]
  },
  {
   "cell_type": "code",
   "execution_count": null,
   "metadata": {},
   "outputs": [],
   "source": [
    "print((m[1][3]-v3*m[2][3]-(v3*m[2][0]-m[1][0])*e1[0]-(v3*m[2][1]-m[1][1])*e1[1]),(v3*m[2][2]-m[1][2]))"
   ]
  },
  {
   "cell_type": "code",
   "execution_count": null,
   "metadata": {},
   "outputs": [],
   "source": []
  }
 ],
 "metadata": {
  "kernelspec": {
   "display_name": "Python 3",
   "language": "python",
   "name": "python3"
  },
  "language_info": {
   "codemirror_mode": {
    "name": "ipython",
    "version": 3
   },
   "file_extension": ".py",
   "mimetype": "text/x-python",
   "name": "python",
   "nbconvert_exporter": "python",
   "pygments_lexer": "ipython3",
   "version": "3.7.6"
  }
 },
 "nbformat": 4,
 "nbformat_minor": 4
}
