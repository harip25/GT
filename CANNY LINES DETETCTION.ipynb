{
 "cells": [
  {
   "cell_type": "code",
   "execution_count": 8,
   "metadata": {},
   "outputs": [
    {
     "data": {
      "text/plain": [
       "True"
      ]
     },
     "execution_count": 8,
     "metadata": {},
     "output_type": "execute_result"
    }
   ],
   "source": [
    "import cv2\n",
    "import numpy as np\n",
    "\n",
    "img2 = cv2.imread(r'C:\\Users\\harip25\\Desktop\\IMG-20191219-WA0050.jpg')\n",
    "\n",
    "gray = cv2.cvtColor(img2, cv2.COLOR_RGB2GRAY)\n",
    "edges = cv2.Canny(gray, 500, 460)\n",
    "kernel = np.ones((3,3),np.uint8)\n",
    "lines = cv2.HoughLines(edges, 0.7, np.pi/120, 120, min_theta=np.pi/36, max_theta=np.pi-np.pi/36)\n",
    "for line in lines:\n",
    "    rho,theta = line[0]\n",
    "    # skip near-vertical lines\n",
    "    if abs(theta-np.pi/90) < np.pi/9:\n",
    "        continue\n",
    "    a = np.cos(theta)\n",
    "    b = np.sin(theta)\n",
    "    x0 = a*rho\n",
    "    y0 = b*rho\n",
    "    x1 = int(x0 + 10000*(-b))\n",
    "    y1 = int(y0 + 10000*(a))\n",
    "    x2 = int(x0 - 10000*(-b))\n",
    "    y2 = int(y0 - 10000*(a))\n",
    "    cv2.line(img,(x1,y1),(x2,y2),(0,255,0),1)\n",
    "\n",
    "cv2.imwrite(r'C:\\Users\\harip25\\Desktop\\linesDetected.jpg', img2)"
   ]
  },
  {
   "cell_type": "code",
   "execution_count": null,
   "metadata": {},
   "outputs": [],
   "source": []
  },
  {
   "cell_type": "code",
   "execution_count": null,
   "metadata": {},
   "outputs": [],
   "source": []
  }
 ],
 "metadata": {
  "kernelspec": {
   "display_name": "Python 3",
   "language": "python",
   "name": "python3"
  },
  "language_info": {
   "codemirror_mode": {
    "name": "ipython",
    "version": 3
   },
   "file_extension": ".py",
   "mimetype": "text/x-python",
   "name": "python",
   "nbconvert_exporter": "python",
   "pygments_lexer": "ipython3",
   "version": "3.7.6"
  }
 },
 "nbformat": 4,
 "nbformat_minor": 4
}
